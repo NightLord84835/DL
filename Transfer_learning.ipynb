{
  "nbformat": 4,
  "nbformat_minor": 0,
  "metadata": {
    "colab": {
      "provenance": []
    },
    "kernelspec": {
      "name": "python3",
      "display_name": "Python 3"
    },
    "language_info": {
      "name": "python"
    }
  },
  "cells": [
    {
      "cell_type": "code",
      "execution_count": 1,
      "metadata": {
        "id": "jxYkqxsIPrcu"
      },
      "outputs": [],
      "source": [
        "import tensorflow as tf\n",
        "from tensorflow.keras.applications import DenseNet121\n",
        "from tensorflow.keras.layers import Dense, GlobalAveragePooling2D\n",
        "from tensorflow.keras.models import Model\n",
        "from tensorflow.keras.optimizers import Adam\n",
        "from tensorflow.keras.datasets import cifar10\n",
        "from tensorflow.keras.utils import to_categorical\n",
        "import matplotlib.pyplot as plt"
      ]
    },
    {
      "cell_type": "code",
      "source": [
        "IMAGE_SIZE = 96\n",
        "NUM_CLASSES = 10\n",
        "BATCH_SIZE = 32\n",
        "EPOCHS_CLASSIFIER = 5\n",
        "EPOCHS_FINE_TUNE = 5"
      ],
      "metadata": {
        "id": "28iYTGExPym9"
      },
      "execution_count": 2,
      "outputs": []
    },
    {
      "cell_type": "code",
      "source": [
        "(X_train, y_train), (X_test, y_test) = cifar10.load_data()\n",
        "X_train = tf.image.resize(X_train, (IMAGE_SIZE, IMAGE_SIZE)) / 255.0\n",
        "X_test = tf.image.resize(X_test, (IMAGE_SIZE, IMAGE_SIZE)) / 255.0\n",
        "y_train = to_categorical(y_train, num_classes=NUM_CLASSES)\n",
        "y_test = to_categorical(y_test, num_classes=NUM_CLASSES)\n",
        "\n"
      ],
      "metadata": {
        "colab": {
          "base_uri": "https://localhost:8080/"
        },
        "id": "WLIZuthmP6Yr",
        "outputId": "e1a3dcab-93c2-4ab4-bac5-dcfee8a214b6"
      },
      "execution_count": 3,
      "outputs": [
        {
          "output_type": "stream",
          "name": "stdout",
          "text": [
            "Downloading data from https://www.cs.toronto.edu/~kriz/cifar-10-python.tar.gz\n",
            "\u001b[1m170498071/170498071\u001b[0m \u001b[32m━━━━━━━━━━━━━━━━━━━━\u001b[0m\u001b[37m\u001b[0m \u001b[1m45s\u001b[0m 0us/step\n"
          ]
        }
      ]
    },
    {
      "cell_type": "code",
      "source": [
        "# --- Transfer Learning Model Setup ---\n",
        "base_model = DenseNet121(\n",
        "    input_shape=(IMAGE_SIZE, IMAGE_SIZE, 3),\n",
        "    include_top=False,\n",
        "    weights='imagenet'\n",
        ")\n",
        "\n",
        "base_model.trainable = False\n",
        "\n",
        "x = base_model.output\n",
        "x = GlobalAveragePooling2D()(x)\n",
        "x = Dense(256, activation='relu')(x)\n",
        "predictions = Dense(NUM_CLASSES, activation='softmax')(x)\n",
        "model = Model(inputs=base_model.input, outputs=predictions)\n"
      ],
      "metadata": {
        "id": "V1I7u-vbP6by"
      },
      "execution_count": 5,
      "outputs": []
    },
    {
      "cell_type": "code",
      "source": [
        "\n",
        "# --- Phase 1: Train Custom Layers ---\n",
        "model.compile(optimizer=Adam(learning_rate=0.001),\n",
        "              loss='categorical_crossentropy',\n",
        "              metrics=['accuracy'])\n",
        "history1 = model.fit(X_train, y_train,\n",
        "                     epochs=EPOCHS_CLASSIFIER,\n",
        "                     batch_size=BATCH_SIZE,\n",
        "                     validation_data=(X_test, y_test),\n",
        "                     verbose=1)\n"
      ],
      "metadata": {
        "colab": {
          "base_uri": "https://localhost:8080/"
        },
        "id": "8rPsVhrPP6fE",
        "outputId": "809a5add-355b-4e4a-f3e4-9d350f7a3f9d"
      },
      "execution_count": null,
      "outputs": [
        {
          "output_type": "stream",
          "name": "stdout",
          "text": [
            "Epoch 1/5\n",
            "\u001b[1m1563/1563\u001b[0m \u001b[32m━━━━━━━━━━━━━━━━━━━━\u001b[0m\u001b[37m\u001b[0m \u001b[1m1634s\u001b[0m 1s/step - accuracy: 0.6986 - loss: 0.8889 - val_accuracy: 0.7582 - val_loss: 0.6924\n",
            "Epoch 2/5\n",
            "\u001b[1m1563/1563\u001b[0m \u001b[32m━━━━━━━━━━━━━━━━━━━━\u001b[0m\u001b[37m\u001b[0m \u001b[1m1597s\u001b[0m 1s/step - accuracy: 0.7958 - loss: 0.5728 - val_accuracy: 0.7918 - val_loss: 0.5963\n",
            "Epoch 3/5\n",
            "\u001b[1m1563/1563\u001b[0m \u001b[32m━━━━━━━━━━━━━━━━━━━━\u001b[0m\u001b[37m\u001b[0m \u001b[1m1645s\u001b[0m 1s/step - accuracy: 0.8238 - loss: 0.4967 - val_accuracy: 0.7871 - val_loss: 0.6124\n",
            "Epoch 4/5\n",
            "\u001b[1m1224/1563\u001b[0m \u001b[32m━━━━━━━━━━━━━━━\u001b[0m\u001b[37m━━━━━\u001b[0m \u001b[1m4:52\u001b[0m 864ms/step - accuracy: 0.8480 - loss: 0.4303"
          ]
        }
      ]
    },
    {
      "cell_type": "code",
      "source": [
        "\n",
        "# --- Phase 2: Fine-Tuning ---\n",
        "base_model.trainable = True\n",
        "for layer in base_model.layers[:100]:\n",
        "    layer.trainable = False\n",
        "\n",
        "model.compile(optimizer=Adam(learning_rate=0.00001),\n",
        "              loss='categorical_crossentropy',\n",
        "              metrics=['accuracy'])\n",
        "history2 = model.fit(X_train, y_train,\n",
        "                     epochs=EPOCHS_FINE_TUNE,\n",
        "                     batch_size=BATCH_SIZE,\n",
        "                     validation_data=(X_test, y_test),\n",
        "                     verbose=1)\n",
        "\n"
      ],
      "metadata": {
        "id": "Aisiw_MHP6hz"
      },
      "execution_count": null,
      "outputs": []
    },
    {
      "cell_type": "code",
      "source": [
        "# --- Accuracy Graph ---\n",
        "history = {}\n",
        "for key in history1.history.keys():\n",
        "    history[key] = history1.history[key] + history2.history[key]\n",
        "\n",
        "plt.plot(history['accuracy'], label='Train Accuracy')\n",
        "plt.plot(history['val_accuracy'], label='Val Accuracy')\n",
        "plt.title('Model Accuracy')\n",
        "plt.xlabel('Epochs')\n",
        "plt.ylabel('Accuracy')\n",
        "plt.legend()\n",
        "plt.show()\n"
      ],
      "metadata": {
        "id": "jOUN-yLKP6kk"
      },
      "execution_count": null,
      "outputs": []
    },
    {
      "cell_type": "code",
      "source": [
        "\n",
        "# --- Evaluation ---\n",
        "loss, accuracy = model.evaluate(X_test, y_test, verbose=0)\n",
        "print(f\"Final Test Accuracy: {accuracy*100:.2f}"
      ],
      "metadata": {
        "id": "uG4ET42OP6nd"
      },
      "execution_count": null,
      "outputs": []
    }
  ]
}